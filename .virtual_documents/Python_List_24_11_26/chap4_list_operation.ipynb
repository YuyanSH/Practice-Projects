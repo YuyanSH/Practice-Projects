














squares = []
for value in range(1, 11):
    squares.append(value**2)
print(squares)





squares = []
for value in range(1, 11):
    squares.append(value**2)
print(squares)
print(min(squares))
print(max(squares))
print(sum(squares))





squares = [value**2 for value in range(1, 11)]
print(squares)





numbers = [value for value in range(1, 21, 2)]
for value in numbers:
    print(value)


numbers = [value for value in range(3, 31, 3)]
print(numbers)


numbers = [value**3 for value in range(1, 11)]
print(numbers)








tiwate = ['mengde', 'liyue', 'daoqi', 'fengdan', 'xumi', 'nata', 'zhidong']
print(tiwate[1:5])
print(tiwate[:4])
print(tiwate[4:])
print(tiwate[-1:])
print(tiwate[2:-3])





tiwate = ['mengde', 'liyue', 'daoqi', 'fengdan', 'xumi', 'nata', 'zhidong']
countries = tiwate[:]
print(countries)








dimensions = (200, 50)
print(dimensions)
# dimensions[0] = 250 会报错，因为元组不可修改









