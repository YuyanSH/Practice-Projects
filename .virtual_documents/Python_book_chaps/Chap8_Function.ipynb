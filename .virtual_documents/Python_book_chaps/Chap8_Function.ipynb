











def describe_pet(animal_type, pet_name):
    """显示宠物信息"""
    print(f"\nI have a {animal_type}")
    print(f"My {animal_type}'s name is {pet_name.title()}")

describe_pet('dog', 'xiaomeng')
describe_pet('hamster', 'harry')





def describe_pet(animal_type, pet_name):
    """显示宠物信息"""
    print(f"\nI have a {animal_type}")
    print(f"My {animal_type}'s name is {pet_name.title()}")

describe_pet(animal_type='dog', pet_name='xiaomeng')
describe_pet(pet_name='harry', animal_type='hamster')





def describe_pet(pet_name, animal_type='dog'):
    """显示宠物信息"""
    print(f"\nI have a {animal_type}")
    print(f"My {animal_type}'s name is {pet_name.title()}")

describe_pet('xiaomeng')
describe_pet('harry', animal_type='hamster')











def get_formatted_name(first_name, last_name):
    """返回标准格式的姓名"""
    full_name = f"{first_name} {last_name}"
    return full_name.title()

musician = get_formatted_name('jimi', 'hendrix')
print(musician)








def get_formatted_name(first_name, last_name, middle_name=''):
    """返回标准格式的姓名"""
    if middle_name:
        full_name = f"{first_name}, {middle_name}, {last_name}"
    else:
        full_name = f"{first_name}, {last_name}"
    return full_name.title()

musician = get_formatted_name('john', 'hooker')
print(musician)





def build_person(first_name, last_name, age=None):
    """返回一个字典，其中包含一个人的信息"""
    person = {'first': first_name, 'last': last_name}
    if age:
        person['age'] = age
    return person
musician = build_person('jimi', 'hendrix')
print(musician)





def get_formatted_name(first_name, last_name, middle_name=''):
    """返回标准格式的姓名"""
    full_name = f"{first_name} {last_name}"
    return full_name.title()

while True:
    print("\nTell me your name")
    print("(enter 'q' at any time to quit)")

    f_name = input("First name: ")
    if f_name == 'q':
        break

    l_name = input("Last name: ")
    if l_name == 'q':
        break

    formatted_name = get_formatted_name(f_name, l_name)
    print(f"\nHello, {formatted_name}")








def make_pizza(*toppings):
    print(toppings)
make_pizza('pepperoni')
make_pizza('mushroon', 'green peppers', 'extra cheese')








def make_pizza(size, *toppings):
    print(f"\nMaking a {size}-inch pizza with the following toppings")
    for topping in toppings:
        print(topping)
make_pizza(16, 'pepperoni')
make_pizza(12, 'mushroon', 'green peppers', 'extra cheese')








def build_profile(first, last, **user_info):
    user_info['first_name'] = first
    user_info['last_name'] = last
    return user_info
user_profile = build_profile('albert', 'einstein',
                            location='princeton',
                              field='physics')
print(user_profile)











import pizza
import os

print(os.getcwd())

pizza.make_pizza(16, 'pepperoni')
pizza.make_pizza(12, 'mushroon', 'green peppers', 'extra cheese')








from pizza import make_pizza

make_pizza(16, 'pepperoni')
make_pizza(12, 'mushroon', 'green peppers', 'extra cheese')





from pizza import make_pizza as mp

mp(16, 'pepperoni')
mp(12, 'mushroon', 'green peppers', 'extra cheese')





import pizza as p

p.make_pizza(16, 'pepperoni')
p.make_pizza(12, 'mushroon', 'green peppers', 'extra cheese')





from pizza import *

make_pizza(16, 'pepperoni')
make_pizza(12, 'mushroon', 'green peppers', 'extra cheese')






