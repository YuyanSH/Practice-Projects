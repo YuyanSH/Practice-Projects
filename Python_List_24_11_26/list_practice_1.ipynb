{
 "cells": [
  {
   "cell_type": "markdown",
   "id": "f49c0f27-736d-499c-b63d-45ed4409bd49",
   "metadata": {
    "jp-MarkdownHeadingCollapsed": true
   },
   "source": [
    "- 测试jupyter"
   ]
  },
  {
   "cell_type": "code",
   "execution_count": 4,
   "id": "548b7720-b5ac-4c2f-898c-251a6c0ba7a2",
   "metadata": {},
   "outputs": [
    {
     "name": "stdout",
     "output_type": "stream",
     "text": [
      "E:\\APP\\TechSoftware\\Anaconda\\anaconda3\\envs\\cenv-test\\python.exe\n",
      "hello world\n"
     ]
    }
   ],
   "source": [
    "import sys\n",
    "print(sys.executable)\n",
    "print('hello world')"
   ]
  },
  {
   "cell_type": "code",
   "execution_count": 2,
   "id": "18738430-5447-4bbe-bfd6-540ffd6ed31c",
   "metadata": {},
   "outputs": [
    {
     "name": "stdout",
     "output_type": "stream",
     "text": [
      "['xiaoli', 'xiaohuang']\n"
     ]
    }
   ],
   "source": [
    "name = ['xiaoli', 'xiaohuang']\n",
    "print(name)"
   ]
  },
  {
   "cell_type": "markdown",
   "id": "1809ca3b-0250-4b4a-b740-4e9a83e6e803",
   "metadata": {},
   "source": [
    "### 3.2 列表删除、添加、插入"
   ]
  },
  {
   "cell_type": "code",
   "execution_count": 3,
   "id": "bf883c21-5961-4a46-b54d-1eeb14a074fc",
   "metadata": {
    "collapsed": true,
    "jupyter": {
     "outputs_hidden": true
    }
   },
   "outputs": [
    {
     "name": "stdout",
     "output_type": "stream",
     "text": [
      "renzheng\n",
      "jack\n",
      "andrew\n",
      "hao\n"
     ]
    }
   ],
   "source": [
    "names = ['renzheng', 'jack', 'andrew', 'hao'] \n",
    "for name in names:\n",
    "    print(name)"
   ]
  },
  {
   "cell_type": "code",
   "execution_count": 2,
   "id": "85c86140-602e-4d03-afd6-7c94a2373324",
   "metadata": {},
   "outputs": [
    {
     "name": "stdout",
     "output_type": "stream",
     "text": [
      "hello, renzheng\n",
      "hello, jack\n",
      "hello, andrew\n",
      "hello, hao\n",
      "['renzheng', 'jack', 'andrew', 'hao', 'furina']\n",
      "['renzheng', 'asuka', 'jack', 'andrew', 'hao', 'furina']\n"
     ]
    }
   ],
   "source": [
    "names = ['renzheng', 'jack', 'andrew', 'hao']\n",
    "for name in names:\n",
    "    print(f\"hello, {name}\")\n",
    "names.append('furina')\n",
    "print(names)\n",
    "names.insert(1, 'asuka')\n",
    "print(names)\n"
   ]
  },
  {
   "cell_type": "markdown",
   "id": "9a2b2d3e-6da6-4a1c-856b-7918e879a520",
   "metadata": {},
   "source": [
    "使用\n",
    "```python\n",
    "print(f\"hello,{name}\")\n",
    "```\n",
    "使输出为字符串"
   ]
  },
  {
   "cell_type": "code",
   "execution_count": 10,
   "id": "e0df0405-7322-4e4b-8d50-3fd453ba0bec",
   "metadata": {},
   "outputs": [
    {
     "name": "stdout",
     "output_type": "stream",
     "text": [
      "python_notes.txt\n",
      "python_notes\n"
     ]
    }
   ],
   "source": [
    "file_name = 'python_notes.txt'\n",
    "print(file_name)\n",
    "print(file_name.removesuffix('.txt'))"
   ]
  },
  {
   "cell_type": "code",
   "execution_count": 13,
   "id": "ba84100b-a2cb-4d21-82d6-a81ff2f337ac",
   "metadata": {},
   "outputs": [
    {
     "name": "stdout",
     "output_type": "stream",
     "text": [
      "['jack', 'andrew', 'hao']\n",
      "['jack', 'andrew']\n",
      "hao\n"
     ]
    }
   ],
   "source": [
    "names = ['renzheng', 'jack', 'andrew', 'hao']\n",
    "del names[0]\n",
    "print(names)\n",
    "pop_name = names.pop()\n",
    "print(names)\n",
    "print(pop_name)"
   ]
  },
  {
   "cell_type": "markdown",
   "id": "630b1c1d-d0bf-4743-ab05-f6156e7631d1",
   "metadata": {},
   "source": [
    "pop表示弹出列表中最后一个元素，并且能够使用它"
   ]
  },
  {
   "cell_type": "markdown",
   "id": "748663cf-b5a7-4829-96ea-2e96775e7946",
   "metadata": {},
   "source": [
    "使用pop弹出列表中任意一个元素"
   ]
  },
  {
   "cell_type": "code",
   "execution_count": 14,
   "id": "527482da-a7e8-4878-b4d5-f9649aea8b0b",
   "metadata": {},
   "outputs": [
    {
     "name": "stdout",
     "output_type": "stream",
     "text": [
      "renzheng\n"
     ]
    }
   ],
   "source": [
    "names = ['renzheng', 'jack', 'andrew', 'hao']\n",
    "first_name = names.pop(0)\n",
    "print(first_name)"
   ]
  },
  {
   "cell_type": "markdown",
   "id": "e06b935f-e6eb-4c53-bea6-cd5f4086c735",
   "metadata": {},
   "source": [
    "根据值删除元素"
   ]
  },
  {
   "cell_type": "code",
   "execution_count": 17,
   "id": "ff4bfb76-3e28-4642-9d65-97492e31d6eb",
   "metadata": {},
   "outputs": [
    {
     "name": "stdout",
     "output_type": "stream",
     "text": [
      "['renzheng', 'jack', 'andrew']\n"
     ]
    }
   ],
   "source": [
    "names = ['renzheng', 'jack', 'andrew', 'hao']\n",
    "names.remove('hao')\n",
    "print(names)"
   ]
  },
  {
   "cell_type": "markdown",
   "id": "ba729bbb-e672-40a1-9d0e-1e998142889f",
   "metadata": {},
   "source": [
    "#### 练习"
   ]
  },
  {
   "cell_type": "code",
   "execution_count": 13,
   "id": "b2f688c0-3a4e-438d-8553-647c8c9f0426",
   "metadata": {},
   "outputs": [
    {
     "name": "stdout",
     "output_type": "stream",
     "text": [
      "I am sorry xiaoguo\n",
      "I am sorry nengcheng\n",
      "I am sorry liuchang\n",
      "I am sorry duozi\n",
      "I am sorry shihao\n",
      "I am sorry xioaxue\n",
      "welcome jiahang!\n",
      "welcome bo!\n",
      "[]\n"
     ]
    }
   ],
   "source": [
    "friends = ['jiahang', 'bo', 'xioaxue', 'shihao', 'duozi']\n",
    "\"\"\"\n",
    "for friend in friends:\n",
    "    print(f\"{friend},welcome to have a dinner together!\")\n",
    "absent_friend = friends.pop(3)\n",
    "print(f\"{absent_friend} can not come\")\n",
    "friends.insert(3, 'laoli')\n",
    "for friend in friends:\n",
    "    print(f\"{friend},welcome to have a dinner together!\")\n",
    "\"\"\"\n",
    "other_friends = ['liuchang', 'nengcheng', 'xiaoguo']\n",
    "for friend in other_friends:\n",
    "    friends.append(friend)\n",
    "length = len(friends)\n",
    "while length > 2:\n",
    "    sorry_friend = friends.pop()\n",
    "    print(F\"I am sorry {sorry_friend}\")\n",
    "    length = len(friends)\n",
    "for friend in friends:\n",
    "    print(f\"welcome {friend}!\")\n",
    "while len(friends) != 0:\n",
    "    del friends[0]\n",
    "print(friends)\n"
   ]
  },
  {
   "cell_type": "markdown",
   "id": "d9e594ca-ff56-47cc-8cb3-77c27b930d95",
   "metadata": {},
   "source": [
    "### 3.3 管理列表"
   ]
  },
  {
   "cell_type": "markdown",
   "id": "020c73c2-5ff9-4613-882f-2f4d9dfdf60e",
   "metadata": {},
   "source": [
    "- 3.3.1使用sort()对列表进行排序"
   ]
  },
  {
   "cell_type": "code",
   "execution_count": 15,
   "id": "0441076f-ca91-4381-af8a-5f3a7f921192",
   "metadata": {},
   "outputs": [
    {
     "name": "stdout",
     "output_type": "stream",
     "text": [
      "['audi', 'bmw', 'subaru', 'toyota']\n",
      "['toyota', 'subaru', 'bmw', 'audi']\n"
     ]
    }
   ],
   "source": [
    "cars = ['bmw', 'audi', 'toyota', 'subaru']\n",
    "cars.sort()\n",
    "print(cars)\n",
    "cars.sort(reverse=True)\n",
    "print(cars)"
   ]
  },
  {
   "cell_type": "markdown",
   "id": "a9b8ce9f-afc2-4d98-9639-81ee1db3d5db",
   "metadata": {},
   "source": [
    "- 3.3.2sorted()临时排序"
   ]
  },
  {
   "cell_type": "code",
   "execution_count": 17,
   "id": "c36c41fd-1c3e-44b5-b0d4-22d1a21b64a4",
   "metadata": {},
   "outputs": [
    {
     "name": "stdout",
     "output_type": "stream",
     "text": [
      "['toyota', 'subaru', 'bmw', 'audi']\n",
      "['bmw', 'audi', 'toyota', 'subaru']\n"
     ]
    }
   ],
   "source": [
    "cars = ['bmw', 'audi', 'toyota', 'subaru']\n",
    "print(sorted(cars, reverse=True))\n",
    "print(cars)"
   ]
  },
  {
   "cell_type": "markdown",
   "id": "c919389c-45e7-46b1-9e71-ee60ec30d84d",
   "metadata": {},
   "source": [
    "- 3.3.3 反向打印列表"
   ]
  },
  {
   "cell_type": "code",
   "execution_count": 18,
   "id": "734dbd61-81fd-49b2-9553-1ec50a6412db",
   "metadata": {},
   "outputs": [
    {
     "name": "stdout",
     "output_type": "stream",
     "text": [
      "['subaru', 'toyota', 'audi', 'bmw']\n"
     ]
    }
   ],
   "source": [
    "cars = ['bmw', 'audi', 'toyota', 'subaru']\n",
    "cars.reverse()\n",
    "print(cars)"
   ]
  },
  {
   "cell_type": "markdown",
   "id": "ab88b621-f7e2-49d2-a897-98bc8f5b9505",
   "metadata": {},
   "source": [
    "- 3.3.4 确定列表长度"
   ]
  },
  {
   "cell_type": "code",
   "execution_count": 19,
   "id": "689893a9-39bc-4864-8470-d8f63a9ceddd",
   "metadata": {},
   "outputs": [
    {
     "name": "stdout",
     "output_type": "stream",
     "text": [
      "4\n"
     ]
    }
   ],
   "source": [
    "cars = ['bmw', 'audi', 'toyota', 'subaru']\n",
    "length = len(cars)\n",
    "print(length)"
   ]
  },
  {
   "cell_type": "markdown",
   "id": "720ea304-3c00-4f76-8fc2-0c1e90d6472a",
   "metadata": {},
   "source": [
    "#### 练习"
   ]
  },
  {
   "cell_type": "code",
   "execution_count": 1,
   "id": "d6b9cf2c-d774-48ca-9696-ff2792f4620a",
   "metadata": {},
   "outputs": [
    {
     "name": "stdout",
     "output_type": "stream",
     "text": [
      "['tokyo', 'qianye', 'jingdu', 'daban', 'kifu']\n",
      "['daban', 'jingdu', 'kifu', 'qianye', 'tokyo']\n",
      "['tokyo', 'qianye', 'jingdu', 'daban', 'kifu']\n",
      "['tokyo', 'qianye', 'kifu', 'jingdu', 'daban']\n",
      "['tokyo', 'qianye', 'jingdu', 'daban', 'kifu']\n",
      "['kifu', 'daban', 'jingdu', 'qianye', 'tokyo']\n",
      "['daban', 'jingdu', 'kifu', 'qianye', 'tokyo']\n",
      "['tokyo', 'qianye', 'kifu', 'jingdu', 'daban']\n"
     ]
    }
   ],
   "source": [
    "scenes = ['tokyo', 'qianye', 'jingdu', 'daban', 'kifu']\n",
    "print(scenes)\n",
    "print(sorted(scenes))\n",
    "print(scenes)\n",
    "print(sorted(scenes, reverse=True))\n",
    "print(scenes)\n",
    "scenes.reverse()\n",
    "print(scenes)\n",
    "scenes.reverse()\n",
    "scenes.sort()\n",
    "print(scenes)\n",
    "scenes.sort(reverse=True)\n",
    "print(scenes)"
   ]
  },
  {
   "cell_type": "markdown",
   "id": "cd933348-157f-4fd8-a9df-82e14c3f09b4",
   "metadata": {},
   "source": [
    "### 3.4 使用列表时避免索引错误"
   ]
  },
  {
   "cell_type": "code",
   "execution_count": null,
   "id": "04a26be7-5f28-4c66-bbf0-3e04acf6dea1",
   "metadata": {},
   "outputs": [],
   "source": []
  }
 ],
 "metadata": {
  "kernelspec": {
   "display_name": "Python 3 (ipykernel)",
   "language": "python",
   "name": "python3"
  },
  "language_info": {
   "codemirror_mode": {
    "name": "ipython",
    "version": 3
   },
   "file_extension": ".py",
   "mimetype": "text/x-python",
   "name": "python",
   "nbconvert_exporter": "python",
   "pygments_lexer": "ipython3",
   "version": "3.10.15"
  }
 },
 "nbformat": 4,
 "nbformat_minor": 5
}
