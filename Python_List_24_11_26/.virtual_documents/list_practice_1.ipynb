


import sys
print(sys.executable)
print('hello world')


name = ['xiaoli', 'xiaohuang']
print(name)





names = ['renzheng', 'jack', 'andrew', 'hao'] 
for name in names:
    print(name)


names = ['renzheng', 'jack', 'andrew', 'hao']
for name in names:
    print(f"hello, {name}")
names.append('furina')
print(names)
names.insert(1, 'asuka')
print(names)






file_name = 'python_notes.txt'
print(file_name)
print(file_name.removesuffix('.txt'))


names = ['renzheng', 'jack', 'andrew', 'hao']
del names[0]
print(names)
pop_name = names.pop()
print(names)
print(pop_name)








names = ['renzheng', 'jack', 'andrew', 'hao']
first_name = names.pop(0)
print(first_name)





names = ['renzheng', 'jack', 'andrew', 'hao']
names.remove('hao')
print(names)





friends = ['jiahang', 'bo', 'xioaxue', 'shihao', 'duozi']
"""
for friend in friends:
    print(f"{friend},welcome to have a dinner together!")
absent_friend = friends.pop(3)
print(f"{absent_friend} can not come")
friends.insert(3, 'laoli')
for friend in friends:
    print(f"{friend},welcome to have a dinner together!")
"""
other_friends = ['liuchang', 'nengcheng', 'xiaoguo']
for friend in other_friends:
    friends.append(friend)
length = len(friends)
while length > 2:
    sorry_friend = friends.pop()
    print(F"I am sorry {sorry_friend}")
    length = len(friends)
for friend in friends:
    print(f"welcome {friend}!")
while len(friends) != 0:
    del friends[0]
print(friends)









cars = ['bmw', 'audi', 'toyota', 'subaru']
cars.sort()
print(cars)
cars.sort(reverse=True)
print(cars)





cars = ['bmw', 'audi', 'toyota', 'subaru']
print(sorted(cars, reverse=True))
print(cars)





cars = ['bmw', 'audi', 'toyota', 'subaru']
cars.reverse()
print(cars)





cars = ['bmw', 'audi', 'toyota', 'subaru']
length = len(cars)
print(length)





scenes = ['tokyo', 'qianye', 'jingdu', 'daban', 'kifu']
print(scenes)
print(sorted(scenes))
print(scenes)
print(sorted(scenes, reverse=True))
print(scenes)
scenes.reverse()
print(scenes)
scenes.reverse()
scenes.sort()
print(scenes)
scenes.sort(reverse=True)
print(scenes)






