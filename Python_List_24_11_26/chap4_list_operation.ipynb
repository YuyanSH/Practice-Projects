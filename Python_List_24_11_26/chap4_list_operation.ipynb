{
 "cells": [
  {
   "cell_type": "markdown",
   "id": "b552ff46-a6a0-403b-b9e5-66a2c46c587b",
   "metadata": {},
   "source": [
    "## 第四章 操作列表"
   ]
  },
  {
   "cell_type": "markdown",
   "id": "21f09428-cfa2-49e3-8fa1-79c80b10e474",
   "metadata": {},
   "source": [
    "### 4.1 遍历列表"
   ]
  },
  {
   "cell_type": "markdown",
   "id": "423b89ba-f2de-4b82-8775-78d7ac115525",
   "metadata": {},
   "source": [
    "- 使用for循环"
   ]
  },
  {
   "cell_type": "markdown",
   "id": "5211a03d-75d0-4c32-9930-d74a49feed9e",
   "metadata": {},
   "source": [
    "### 4.2 缩进错误"
   ]
  },
  {
   "cell_type": "markdown",
   "id": "f44c8219-9221-4875-8be7-ec27eabadca5",
   "metadata": {},
   "source": [
    "### 4.3 创建数值列表"
   ]
  },
  {
   "cell_type": "code",
   "execution_count": 2,
   "id": "08fad461-6c21-4e32-9fb5-dff6a6b937f0",
   "metadata": {},
   "outputs": [
    {
     "name": "stdout",
     "output_type": "stream",
     "text": [
      "[1, 8, 27, 64, 125, 216, 343, 512, 729, 1000]\n"
     ]
    }
   ],
   "source": [
    "squares = []\n",
    "for value in range(1, 11):\n",
    "    squares.append(value**3)\n",
    "print(squares)"
   ]
  },
  {
   "cell_type": "markdown",
   "id": "e910dc82-d4cf-4812-aec8-c464b55d1112",
   "metadata": {},
   "source": [
    "#### 4.3.3 简单统计"
   ]
  },
  {
   "cell_type": "code",
   "execution_count": 5,
   "id": "0cf92202-bd70-4c8c-9801-70ce7bb5e04e",
   "metadata": {},
   "outputs": [
    {
     "name": "stdout",
     "output_type": "stream",
     "text": [
      "[1, 4, 9, 16, 25, 36, 49, 64, 81, 100]\n",
      "1\n",
      "100\n",
      "385\n"
     ]
    }
   ],
   "source": [
    "squares = []\n",
    "for value in range(1, 11):\n",
    "    squares.append(value**2)\n",
    "print(squares)\n",
    "print(min(squares))\n",
    "print(max(squares))\n",
    "print(sum(squares))"
   ]
  },
  {
   "cell_type": "markdown",
   "id": "84f183a2-bbf3-41ef-9c37-543a7e04c0d6",
   "metadata": {},
   "source": [
    "#### 4.3.4 列表推导式"
   ]
  },
  {
   "cell_type": "code",
   "execution_count": 6,
   "id": "b312d069-5fc5-4dba-9b94-be87c75a2071",
   "metadata": {},
   "outputs": [
    {
     "name": "stdout",
     "output_type": "stream",
     "text": [
      "[1, 4, 9, 16, 25, 36, 49, 64, 81, 100]\n"
     ]
    }
   ],
   "source": [
    "squares = [value**2 for value in range(1, 11)]\n",
    "print(squares)"
   ]
  },
  {
   "cell_type": "markdown",
   "id": "f15bcf1d-ae94-49f1-ad41-a8be38f6b695",
   "metadata": {},
   "source": [
    "#### 练习4.3"
   ]
  },
  {
   "cell_type": "code",
   "execution_count": 10,
   "id": "8f463d60-a9da-466c-b948-a227fcea48f8",
   "metadata": {},
   "outputs": [
    {
     "name": "stdout",
     "output_type": "stream",
     "text": [
      "1\n",
      "3\n",
      "5\n",
      "7\n",
      "9\n",
      "11\n",
      "13\n",
      "15\n",
      "17\n",
      "19\n"
     ]
    }
   ],
   "source": [
    "numbers = [value for value in range(1, 21, 2)]\n",
    "for value in numbers:\n",
    "    print(value)"
   ]
  },
  {
   "cell_type": "code",
   "execution_count": 11,
   "id": "62a7795d-b26c-45db-9f5b-c9dc62e49ac9",
   "metadata": {},
   "outputs": [
    {
     "name": "stdout",
     "output_type": "stream",
     "text": [
      "[3, 6, 9, 12, 15, 18, 21, 24, 27, 30]\n"
     ]
    }
   ],
   "source": [
    "numbers = [value for value in range(3, 31, 3)]\n",
    "print(numbers)"
   ]
  },
  {
   "cell_type": "code",
   "execution_count": 12,
   "id": "e1c9b4e9-3945-49e7-86cd-669627ff4799",
   "metadata": {},
   "outputs": [
    {
     "name": "stdout",
     "output_type": "stream",
     "text": [
      "[1, 8, 27, 64, 125, 216, 343, 512, 729, 1000]\n"
     ]
    }
   ],
   "source": [
    "numbers = [value**3 for value in range(1, 11)]\n",
    "print(numbers)"
   ]
  },
  {
   "cell_type": "markdown",
   "id": "891c7a15-5acd-4506-b624-ff0d576fa1b5",
   "metadata": {},
   "source": [
    "### 4.4 使用列表的一部分"
   ]
  },
  {
   "cell_type": "markdown",
   "id": "887d7a43-cd43-47fa-92a1-fcca498ec080",
   "metadata": {},
   "source": [
    "#### 4.4.1 切片"
   ]
  },
  {
   "cell_type": "code",
   "execution_count": 18,
   "id": "eb8a83eb-27c8-4a03-bcd9-590a85e05016",
   "metadata": {},
   "outputs": [
    {
     "name": "stdout",
     "output_type": "stream",
     "text": [
      "['liyue', 'daoqi', 'fengdan', 'xumi']\n",
      "['mengde', 'liyue', 'daoqi', 'fengdan']\n",
      "['xumi', 'nata', 'zhidong']\n",
      "['zhidong']\n",
      "['daoqi', 'fengdan']\n"
     ]
    }
   ],
   "source": [
    "tiwate = ['mengde', 'liyue', 'daoqi', 'fengdan', 'xumi', 'nata', 'zhidong']\n",
    "print(tiwate[1:5])\n",
    "print(tiwate[:4])\n",
    "print(tiwate[4:])\n",
    "print(tiwate[-1:])\n",
    "print(tiwate[2:-3])"
   ]
  },
  {
   "cell_type": "markdown",
   "id": "b7873dcd-3589-4901-9877-9adb58cb18c8",
   "metadata": {},
   "source": [
    "#### 4.4.3 复制列表"
   ]
  },
  {
   "cell_type": "code",
   "execution_count": null,
   "id": "b314ba40-d58a-49de-93e0-18793cf836b6",
   "metadata": {},
   "outputs": [],
   "source": [
    "tiwate = ['mengde', 'liyue', 'daoqi', 'fengdan', 'xumi', 'nata', 'zhidong']\n",
    "countries = tiwate[:]\n",
    "print(countries)"
   ]
  },
  {
   "cell_type": "markdown",
   "id": "66b76870-943b-4305-896f-f0c84d9def30",
   "metadata": {},
   "source": [
    "### 4.5 元组"
   ]
  },
  {
   "cell_type": "markdown",
   "id": "50119391-9a2a-47a3-a9a4-da4da90de22a",
   "metadata": {},
   "source": [
    "元组(tuple)：不可变的列表"
   ]
  },
  {
   "cell_type": "code",
   "execution_count": 21,
   "id": "a132ae4e-6e29-4758-ae1c-16f163f5f342",
   "metadata": {},
   "outputs": [
    {
     "name": "stdout",
     "output_type": "stream",
     "text": [
      "(200, 50)\n"
     ]
    }
   ],
   "source": [
    "dimensions = (200, 50)\n",
    "print(dimensions)\n",
    "# dimensions[0] = 250 会报错，因为元组不可修改"
   ]
  },
  {
   "cell_type": "markdown",
   "id": "77fb56de-f0d6-4954-a668-03c024f6fa69",
   "metadata": {},
   "source": [
    "### 4.6 设置代码格式"
   ]
  },
  {
   "cell_type": "markdown",
   "id": "720517fb-035f-49a5-939c-5a9863812a66",
   "metadata": {},
   "source": [
    "PEP8"
   ]
  },
  {
   "cell_type": "code",
   "execution_count": null,
   "id": "955bc67c-d541-46c5-a92a-8b676bede8f5",
   "metadata": {},
   "outputs": [],
   "source": []
  }
 ],
 "metadata": {
  "kernelspec": {
   "display_name": "cenv-test",
   "language": "python",
   "name": "python3"
  },
  "language_info": {
   "codemirror_mode": {
    "name": "ipython",
    "version": 3
   },
   "file_extension": ".py",
   "mimetype": "text/x-python",
   "name": "python",
   "nbconvert_exporter": "python",
   "pygments_lexer": "ipython3",
   "version": "3.10.15"
  }
 },
 "nbformat": 4,
 "nbformat_minor": 5
}
